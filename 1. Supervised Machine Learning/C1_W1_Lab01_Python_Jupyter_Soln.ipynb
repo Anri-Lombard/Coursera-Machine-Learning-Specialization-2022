{
  "cells": [
    {
      "cell_type": "markdown",
      "metadata": {
        "id": "mwzbk3LcAvsl"
      },
      "source": [
        "# Optional Lab:  Brief Introduction to Python and Jupyter Notebooks\n",
        "Welcome to the first optional lab! \n",
        "Optional labs are available to:\n",
        "- provide information - like this notebook\n",
        "- reinforce lecture material with hands-on examples\n",
        "- provide working examples of routines used in the graded labs"
      ],
      "id": "mwzbk3LcAvsl"
    },
    {
      "cell_type": "markdown",
      "metadata": {
        "id": "eKgYvN-RAvsw"
      },
      "source": [
        "## Goals\n",
        "In this lab, you will:\n",
        "- Get a brief introduction to Jupyter notebooks\n",
        "- Take a tour of Jupyter notebooks\n",
        "- Learn the difference between markdown cells and code cells\n",
        "- Practice some basic python\n"
      ],
      "id": "eKgYvN-RAvsw"
    },
    {
      "cell_type": "markdown",
      "metadata": {
        "id": "d9qJHPfBAvsy"
      },
      "source": [
        "The easiest way to become familiar with Jupyter notebooks is to take the tour available above in the Help menu:"
      ],
      "id": "d9qJHPfBAvsy"
    },
    {
      "cell_type": "markdown",
      "metadata": {
        "id": "OG4hvB49Avsz"
      },
      "source": [
        "<figure>\n",
        "    <center> <img src=\"../work/images/C1W1L1_Tour.PNG\"  alt='missing' width=\"400\"  ><center/>\n",
        "<figure/>"
      ],
      "id": "OG4hvB49Avsz"
    },
    {
      "cell_type": "markdown",
      "metadata": {
        "id": "3DO_IlLNAvs0"
      },
      "source": [
        "Jupyter notebooks have two types of cells that are used in this course. Cells such as this which contain documentation called `Markdown Cells`. The name is derived from the simple formatting language used in the cells. You will not be required to produce markdown cells. Its useful to understand the `cell pulldown` shown in graphic below. Occasionally, a cell will end up in the wrong mode and you may need to restore it to the right state:"
      ],
      "id": "3DO_IlLNAvs0"
    },
    {
      "cell_type": "markdown",
      "metadata": {
        "id": "qIzkCN3tAvs0"
      },
      "source": [
        "<figure>\n",
        "   <img src=\"../work/images/C1W1L1_Markdown.PNG\"  alt='missing' width=\"400\"  >\n",
        "<figure/>"
      ],
      "id": "qIzkCN3tAvs0"
    },
    {
      "cell_type": "markdown",
      "metadata": {
        "id": "GYl7p-KMAvs1"
      },
      "source": [
        "The other type of cell is the `code cell` where you will write your code:"
      ],
      "id": "GYl7p-KMAvs1"
    },
    {
      "cell_type": "code",
      "execution_count": 1,
      "metadata": {
        "colab": {
          "base_uri": "https://localhost:8080/"
        },
        "id": "FsGrw-dxAvs2",
        "outputId": "203568c4-fd34-4f6c-a8fe-eb6606d318c2"
      },
      "outputs": [
        {
          "output_type": "stream",
          "name": "stdout",
          "text": [
            "This is  code cell\n"
          ]
        }
      ],
      "source": [
        "#This is  a 'Code' Cell\n",
        "print(\"This is  code cell\")"
      ],
      "id": "FsGrw-dxAvs2"
    },
    {
      "cell_type": "markdown",
      "metadata": {
        "id": "6koaFhu-Avs6"
      },
      "source": [
        "## Python\n",
        "You can write your code in the code cells. \n",
        "To run the code, select the cell and either\n",
        "- hold the shift-key down and hit 'enter' or 'return'\n",
        "- click the 'run' arrow above\n",
        "<figure>\n",
        "    <img src=\"../work/images/C1W1L1_Run.PNG\"  width=\"400\"  >\n",
        "<figure/>\n",
        "\n",
        " "
      ],
      "id": "6koaFhu-Avs6"
    },
    {
      "cell_type": "markdown",
      "metadata": {
        "id": "jmJcvMnYAvs9"
      },
      "source": [
        "### Print statement\n",
        "Print statements will generally use the python f-string style.  \n",
        "Try creating your own print in the following cell.  \n",
        "Try both methods of running the cell."
      ],
      "id": "jmJcvMnYAvs9"
    },
    {
      "cell_type": "code",
      "execution_count": 2,
      "metadata": {
        "colab": {
          "base_uri": "https://localhost:8080/"
        },
        "id": "PKaQ6HNEAvs-",
        "outputId": "f94049bb-db29-4187-89b1-487e25ec2769"
      },
      "outputs": [
        {
          "output_type": "stream",
          "name": "stdout",
          "text": [
            "f strings allow you to embed variables right in the strings!\n"
          ]
        }
      ],
      "source": [
        "# print statements\n",
        "variable = \"right in the strings!\"\n",
        "print(f\"f strings allow you to embed variables {variable}\")"
      ],
      "id": "PKaQ6HNEAvs-"
    },
    {
      "cell_type": "markdown",
      "metadata": {
        "id": "sPKr-TSRAvtA"
      },
      "source": [
        "# Congratulations!\n",
        "You now know how to find your way around a Jupyter Notebook."
      ],
      "id": "sPKr-TSRAvtA"
    }
  ],
  "metadata": {
    "kernelspec": {
      "display_name": "Python 3",
      "language": "python",
      "name": "python3"
    },
    "language_info": {
      "codemirror_mode": {
        "name": "ipython",
        "version": 3
      },
      "file_extension": ".py",
      "mimetype": "text/x-python",
      "name": "python",
      "nbconvert_exporter": "python",
      "pygments_lexer": "ipython3",
      "version": "3.7.6"
    },
    "colab": {
      "provenance": []
    }
  },
  "nbformat": 4,
  "nbformat_minor": 5
}